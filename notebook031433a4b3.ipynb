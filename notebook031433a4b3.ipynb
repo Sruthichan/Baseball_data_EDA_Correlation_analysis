{
 "cells": [
  {
   "cell_type": "markdown",
   "id": "d27f6929",
   "metadata": {
    "papermill": {
     "duration": 0.008731,
     "end_time": "2024-09-07T23:52:42.068504",
     "exception": false,
     "start_time": "2024-09-07T23:52:42.059773",
     "status": "completed"
    },
    "tags": []
   },
   "source": [
    "### BASEBALL ANALYSIS"
   ]
  },
  {
   "cell_type": "markdown",
   "id": "8f700685",
   "metadata": {
    "papermill": {
     "duration": 0.006941,
     "end_time": "2024-09-07T23:52:42.082861",
     "exception": false,
     "start_time": "2024-09-07T23:52:42.075920",
     "status": "completed"
    },
    "tags": []
   },
   "source": [
    "***Overview:\n",
    "This dataset contains comprehensive statistics related to baseball teams over various seasons. The data spans multiple years and includes information about team performance, game statistics, and other related metrics.***"
   ]
  },
  {
   "cell_type": "code",
   "execution_count": 1,
   "id": "2b3e9257",
   "metadata": {
    "execution": {
     "iopub.execute_input": "2024-09-07T23:52:42.098988Z",
     "iopub.status.busy": "2024-09-07T23:52:42.098531Z",
     "iopub.status.idle": "2024-09-07T23:52:43.900716Z",
     "shell.execute_reply": "2024-09-07T23:52:43.899849Z"
    },
    "papermill": {
     "duration": 1.81305,
     "end_time": "2024-09-07T23:52:43.903043",
     "exception": false,
     "start_time": "2024-09-07T23:52:42.089993",
     "status": "completed"
    },
    "tags": []
   },
   "outputs": [],
   "source": [
    "#Libraries\n",
    "import pandas as pd\n",
    "import numpy as np\n",
    "import matplotlib.pyplot as plt\n",
    "import seaborn as sns\n",
    "import scipy.stats as sts\n",
    "from scipy.stats import kurtosis\n",
    "from scipy.stats import skew\n",
    "import statistics\n",
    "import warnings"
   ]
  },
  {
   "cell_type": "code",
   "execution_count": 2,
   "id": "398bf5eb",
   "metadata": {
    "execution": {
     "iopub.execute_input": "2024-09-07T23:52:43.919717Z",
     "iopub.status.busy": "2024-09-07T23:52:43.918885Z",
     "iopub.status.idle": "2024-09-07T23:52:43.956686Z",
     "shell.execute_reply": "2024-09-07T23:52:43.955752Z"
    },
    "papermill": {
     "duration": 0.048508,
     "end_time": "2024-09-07T23:52:43.959009",
     "exception": false,
     "start_time": "2024-09-07T23:52:43.910501",
     "status": "completed"
    },
    "tags": []
   },
   "outputs": [],
   "source": [
    "df =pd.read_csv('/kaggle/input/baseballl/baseball_teams.csv')"
   ]
  },
  {
   "cell_type": "code",
   "execution_count": 3,
   "id": "d648eb76",
   "metadata": {
    "execution": {
     "iopub.execute_input": "2024-09-07T23:52:43.975745Z",
     "iopub.status.busy": "2024-09-07T23:52:43.974770Z",
     "iopub.status.idle": "2024-09-07T23:52:44.015499Z",
     "shell.execute_reply": "2024-09-07T23:52:44.014481Z"
    },
    "papermill": {
     "duration": 0.051379,
     "end_time": "2024-09-07T23:52:44.017936",
     "exception": false,
     "start_time": "2024-09-07T23:52:43.966557",
     "status": "completed"
    },
    "tags": []
   },
   "outputs": [
    {
     "data": {
      "text/html": [
       "<div>\n",
       "<style scoped>\n",
       "    .dataframe tbody tr th:only-of-type {\n",
       "        vertical-align: middle;\n",
       "    }\n",
       "\n",
       "    .dataframe tbody tr th {\n",
       "        vertical-align: top;\n",
       "    }\n",
       "\n",
       "    .dataframe thead th {\n",
       "        text-align: right;\n",
       "    }\n",
       "</style>\n",
       "<table border=\"1\" class=\"dataframe\">\n",
       "  <thead>\n",
       "    <tr style=\"text-align: right;\">\n",
       "      <th></th>\n",
       "      <th>Year</th>\n",
       "      <th>League</th>\n",
       "      <th>Team</th>\n",
       "      <th>Franchise</th>\n",
       "      <th>Division</th>\n",
       "      <th>Final_Standing</th>\n",
       "      <th>Games_Played</th>\n",
       "      <th>Unnamed: 7</th>\n",
       "      <th>Games_Won</th>\n",
       "      <th>Games_Lost</th>\n",
       "      <th>...</th>\n",
       "      <th>Hits_Allowed</th>\n",
       "      <th>Home_Run_Allowed</th>\n",
       "      <th>Walks_Allowed</th>\n",
       "      <th>Strikeouts_Allowed</th>\n",
       "      <th>Errors</th>\n",
       "      <th>Double_Plays</th>\n",
       "      <th>Fielding_Percentage</th>\n",
       "      <th>Team_Name</th>\n",
       "      <th>Home_Ball_Park</th>\n",
       "      <th>Attendance</th>\n",
       "    </tr>\n",
       "  </thead>\n",
       "  <tbody>\n",
       "    <tr>\n",
       "      <th>0</th>\n",
       "      <td>1871</td>\n",
       "      <td>NaN</td>\n",
       "      <td>BS1</td>\n",
       "      <td>BNA</td>\n",
       "      <td>NaN</td>\n",
       "      <td>3</td>\n",
       "      <td>31</td>\n",
       "      <td>NaN</td>\n",
       "      <td>20</td>\n",
       "      <td>10</td>\n",
       "      <td>...</td>\n",
       "      <td>367</td>\n",
       "      <td>2</td>\n",
       "      <td>42</td>\n",
       "      <td>23</td>\n",
       "      <td>225</td>\n",
       "      <td>NaN</td>\n",
       "      <td>0.830</td>\n",
       "      <td>Boston Red Stockings</td>\n",
       "      <td>South End Grounds I</td>\n",
       "      <td>NaN</td>\n",
       "    </tr>\n",
       "    <tr>\n",
       "      <th>1</th>\n",
       "      <td>1871</td>\n",
       "      <td>NaN</td>\n",
       "      <td>CH1</td>\n",
       "      <td>CNA</td>\n",
       "      <td>NaN</td>\n",
       "      <td>2</td>\n",
       "      <td>28</td>\n",
       "      <td>NaN</td>\n",
       "      <td>19</td>\n",
       "      <td>9</td>\n",
       "      <td>...</td>\n",
       "      <td>308</td>\n",
       "      <td>6</td>\n",
       "      <td>28</td>\n",
       "      <td>22</td>\n",
       "      <td>218</td>\n",
       "      <td>NaN</td>\n",
       "      <td>0.820</td>\n",
       "      <td>Chicago White Stockings</td>\n",
       "      <td>Union Base-Ball Grounds</td>\n",
       "      <td>NaN</td>\n",
       "    </tr>\n",
       "    <tr>\n",
       "      <th>2</th>\n",
       "      <td>1871</td>\n",
       "      <td>NaN</td>\n",
       "      <td>CL1</td>\n",
       "      <td>CFC</td>\n",
       "      <td>NaN</td>\n",
       "      <td>8</td>\n",
       "      <td>29</td>\n",
       "      <td>NaN</td>\n",
       "      <td>10</td>\n",
       "      <td>19</td>\n",
       "      <td>...</td>\n",
       "      <td>346</td>\n",
       "      <td>13</td>\n",
       "      <td>53</td>\n",
       "      <td>34</td>\n",
       "      <td>223</td>\n",
       "      <td>NaN</td>\n",
       "      <td>0.810</td>\n",
       "      <td>Cleveland Forest Citys</td>\n",
       "      <td>National Association Grounds</td>\n",
       "      <td>NaN</td>\n",
       "    </tr>\n",
       "    <tr>\n",
       "      <th>3</th>\n",
       "      <td>1871</td>\n",
       "      <td>NaN</td>\n",
       "      <td>FW1</td>\n",
       "      <td>KEK</td>\n",
       "      <td>NaN</td>\n",
       "      <td>7</td>\n",
       "      <td>19</td>\n",
       "      <td>NaN</td>\n",
       "      <td>7</td>\n",
       "      <td>12</td>\n",
       "      <td>...</td>\n",
       "      <td>261</td>\n",
       "      <td>5</td>\n",
       "      <td>21</td>\n",
       "      <td>17</td>\n",
       "      <td>163</td>\n",
       "      <td>NaN</td>\n",
       "      <td>0.800</td>\n",
       "      <td>Fort Wayne Kekiongas</td>\n",
       "      <td>Hamilton Field</td>\n",
       "      <td>NaN</td>\n",
       "    </tr>\n",
       "    <tr>\n",
       "      <th>4</th>\n",
       "      <td>1871</td>\n",
       "      <td>NaN</td>\n",
       "      <td>NY2</td>\n",
       "      <td>NNA</td>\n",
       "      <td>NaN</td>\n",
       "      <td>5</td>\n",
       "      <td>33</td>\n",
       "      <td>NaN</td>\n",
       "      <td>16</td>\n",
       "      <td>17</td>\n",
       "      <td>...</td>\n",
       "      <td>373</td>\n",
       "      <td>7</td>\n",
       "      <td>42</td>\n",
       "      <td>22</td>\n",
       "      <td>227</td>\n",
       "      <td>NaN</td>\n",
       "      <td>0.830</td>\n",
       "      <td>New York Mutuals</td>\n",
       "      <td>Union Grounds (Brooklyn)</td>\n",
       "      <td>NaN</td>\n",
       "    </tr>\n",
       "    <tr>\n",
       "      <th>...</th>\n",
       "      <td>...</td>\n",
       "      <td>...</td>\n",
       "      <td>...</td>\n",
       "      <td>...</td>\n",
       "      <td>...</td>\n",
       "      <td>...</td>\n",
       "      <td>...</td>\n",
       "      <td>...</td>\n",
       "      <td>...</td>\n",
       "      <td>...</td>\n",
       "      <td>...</td>\n",
       "      <td>...</td>\n",
       "      <td>...</td>\n",
       "      <td>...</td>\n",
       "      <td>...</td>\n",
       "      <td>...</td>\n",
       "      <td>...</td>\n",
       "      <td>...</td>\n",
       "      <td>...</td>\n",
       "      <td>...</td>\n",
       "      <td>...</td>\n",
       "    </tr>\n",
       "    <tr>\n",
       "      <th>2800</th>\n",
       "      <td>2015</td>\n",
       "      <td>NL</td>\n",
       "      <td>LAN</td>\n",
       "      <td>LAD</td>\n",
       "      <td>W</td>\n",
       "      <td>1</td>\n",
       "      <td>162</td>\n",
       "      <td>81.0</td>\n",
       "      <td>92</td>\n",
       "      <td>70</td>\n",
       "      <td>...</td>\n",
       "      <td>1317</td>\n",
       "      <td>145</td>\n",
       "      <td>395</td>\n",
       "      <td>1396</td>\n",
       "      <td>75</td>\n",
       "      <td>133.0</td>\n",
       "      <td>0.988</td>\n",
       "      <td>Los Angeles Dodgers</td>\n",
       "      <td>Dodger Stadium</td>\n",
       "      <td>3764815.0</td>\n",
       "    </tr>\n",
       "    <tr>\n",
       "      <th>2801</th>\n",
       "      <td>2015</td>\n",
       "      <td>NL</td>\n",
       "      <td>SFN</td>\n",
       "      <td>SFG</td>\n",
       "      <td>W</td>\n",
       "      <td>2</td>\n",
       "      <td>162</td>\n",
       "      <td>81.0</td>\n",
       "      <td>84</td>\n",
       "      <td>78</td>\n",
       "      <td>...</td>\n",
       "      <td>1344</td>\n",
       "      <td>155</td>\n",
       "      <td>431</td>\n",
       "      <td>1165</td>\n",
       "      <td>78</td>\n",
       "      <td>145.0</td>\n",
       "      <td>0.987</td>\n",
       "      <td>San Francisco Giants</td>\n",
       "      <td>AT&amp;T Park</td>\n",
       "      <td>3375882.0</td>\n",
       "    </tr>\n",
       "    <tr>\n",
       "      <th>2802</th>\n",
       "      <td>2015</td>\n",
       "      <td>NL</td>\n",
       "      <td>ARI</td>\n",
       "      <td>ARI</td>\n",
       "      <td>W</td>\n",
       "      <td>3</td>\n",
       "      <td>162</td>\n",
       "      <td>81.0</td>\n",
       "      <td>79</td>\n",
       "      <td>83</td>\n",
       "      <td>...</td>\n",
       "      <td>1450</td>\n",
       "      <td>182</td>\n",
       "      <td>500</td>\n",
       "      <td>1215</td>\n",
       "      <td>86</td>\n",
       "      <td>146.0</td>\n",
       "      <td>0.986</td>\n",
       "      <td>Arizona Diamondbacks</td>\n",
       "      <td>Chase Field</td>\n",
       "      <td>2080145.0</td>\n",
       "    </tr>\n",
       "    <tr>\n",
       "      <th>2803</th>\n",
       "      <td>2015</td>\n",
       "      <td>NL</td>\n",
       "      <td>SDN</td>\n",
       "      <td>SDP</td>\n",
       "      <td>W</td>\n",
       "      <td>4</td>\n",
       "      <td>162</td>\n",
       "      <td>81.0</td>\n",
       "      <td>74</td>\n",
       "      <td>88</td>\n",
       "      <td>...</td>\n",
       "      <td>1371</td>\n",
       "      <td>171</td>\n",
       "      <td>516</td>\n",
       "      <td>1393</td>\n",
       "      <td>92</td>\n",
       "      <td>138.0</td>\n",
       "      <td>0.985</td>\n",
       "      <td>San Diego Padres</td>\n",
       "      <td>Petco Park</td>\n",
       "      <td>2459742.0</td>\n",
       "    </tr>\n",
       "    <tr>\n",
       "      <th>2804</th>\n",
       "      <td>2015</td>\n",
       "      <td>NL</td>\n",
       "      <td>COL</td>\n",
       "      <td>COL</td>\n",
       "      <td>W</td>\n",
       "      <td>5</td>\n",
       "      <td>162</td>\n",
       "      <td>81.0</td>\n",
       "      <td>68</td>\n",
       "      <td>94</td>\n",
       "      <td>...</td>\n",
       "      <td>1579</td>\n",
       "      <td>183</td>\n",
       "      <td>579</td>\n",
       "      <td>1112</td>\n",
       "      <td>95</td>\n",
       "      <td>171.0</td>\n",
       "      <td>0.985</td>\n",
       "      <td>Colorado Rockies</td>\n",
       "      <td>Coors Field</td>\n",
       "      <td>2506789.0</td>\n",
       "    </tr>\n",
       "  </tbody>\n",
       "</table>\n",
       "<p>2805 rows × 43 columns</p>\n",
       "</div>"
      ],
      "text/plain": [
       "      Year  League Team  Franchise  Division  Final_Standing  Games_Played  \\\n",
       "0      1871    NaN   BS1        BNA      NaN               3            31   \n",
       "1      1871    NaN   CH1        CNA      NaN               2            28   \n",
       "2      1871    NaN   CL1        CFC      NaN               8            29   \n",
       "3      1871    NaN   FW1        KEK      NaN               7            19   \n",
       "4      1871    NaN   NY2        NNA      NaN               5            33   \n",
       "...     ...    ...   ...        ...      ...             ...           ...   \n",
       "2800   2015     NL   LAN        LAD        W               1           162   \n",
       "2801   2015     NL   SFN        SFG        W               2           162   \n",
       "2802   2015     NL   ARI        ARI        W               3           162   \n",
       "2803   2015     NL   SDN        SDP        W               4           162   \n",
       "2804   2015     NL   COL        COL        W               5           162   \n",
       "\n",
       "      Unnamed: 7  Games_Won  Games_Lost  ... Hits_Allowed Home_Run_Allowed  \\\n",
       "0            NaN         20          10  ...          367                2   \n",
       "1            NaN         19           9  ...          308                6   \n",
       "2            NaN         10          19  ...          346               13   \n",
       "3            NaN          7          12  ...          261                5   \n",
       "4            NaN         16          17  ...          373                7   \n",
       "...          ...        ...         ...  ...          ...              ...   \n",
       "2800        81.0         92          70  ...         1317              145   \n",
       "2801        81.0         84          78  ...         1344              155   \n",
       "2802        81.0         79          83  ...         1450              182   \n",
       "2803        81.0         74          88  ...         1371              171   \n",
       "2804        81.0         68          94  ...         1579              183   \n",
       "\n",
       "     Walks_Allowed Strikeouts_Allowed  Errors  Double_Plays  \\\n",
       "0               42                 23     225           NaN   \n",
       "1               28                 22     218           NaN   \n",
       "2               53                 34     223           NaN   \n",
       "3               21                 17     163           NaN   \n",
       "4               42                 22     227           NaN   \n",
       "...            ...                ...     ...           ...   \n",
       "2800           395               1396      75         133.0   \n",
       "2801           431               1165      78         145.0   \n",
       "2802           500               1215      86         146.0   \n",
       "2803           516               1393      92         138.0   \n",
       "2804           579               1112      95         171.0   \n",
       "\n",
       "      Fielding_Percentage                Team_Name  \\\n",
       "0                   0.830     Boston Red Stockings   \n",
       "1                   0.820  Chicago White Stockings   \n",
       "2                   0.810   Cleveland Forest Citys   \n",
       "3                   0.800     Fort Wayne Kekiongas   \n",
       "4                   0.830         New York Mutuals   \n",
       "...                   ...                      ...   \n",
       "2800                0.988      Los Angeles Dodgers   \n",
       "2801                0.987     San Francisco Giants   \n",
       "2802                0.986     Arizona Diamondbacks   \n",
       "2803                0.985         San Diego Padres   \n",
       "2804                0.985         Colorado Rockies   \n",
       "\n",
       "                    Home_Ball_Park  Attendance  \n",
       "0              South End Grounds I         NaN  \n",
       "1          Union Base-Ball Grounds         NaN  \n",
       "2     National Association Grounds         NaN  \n",
       "3                   Hamilton Field         NaN  \n",
       "4         Union Grounds (Brooklyn)         NaN  \n",
       "...                            ...         ...  \n",
       "2800                Dodger Stadium   3764815.0  \n",
       "2801                     AT&T Park   3375882.0  \n",
       "2802                   Chase Field   2080145.0  \n",
       "2803                    Petco Park   2459742.0  \n",
       "2804                   Coors Field   2506789.0  \n",
       "\n",
       "[2805 rows x 43 columns]"
      ]
     },
     "execution_count": 3,
     "metadata": {},
     "output_type": "execute_result"
    }
   ],
   "source": [
    "df"
   ]
  },
  {
   "cell_type": "code",
   "execution_count": 4,
   "id": "9e65058d",
   "metadata": {
    "execution": {
     "iopub.execute_input": "2024-09-07T23:52:44.035365Z",
     "iopub.status.busy": "2024-09-07T23:52:44.034964Z",
     "iopub.status.idle": "2024-09-07T23:52:44.045328Z",
     "shell.execute_reply": "2024-09-07T23:52:44.044345Z"
    },
    "papermill": {
     "duration": 0.021232,
     "end_time": "2024-09-07T23:52:44.047325",
     "exception": false,
     "start_time": "2024-09-07T23:52:44.026093",
     "status": "completed"
    },
    "tags": []
   },
   "outputs": [
    {
     "data": {
      "text/plain": [
       "Year                      0\n",
       "League                   50\n",
       "Team                      0\n",
       "Franchise                 0\n",
       "Division               1517\n",
       "Final_Standing            0\n",
       "Games_Played              0\n",
       "Unnamed: 7              399\n",
       "Games_Won                 0\n",
       "Games_Lost                0\n",
       "Unnamed: 10            1545\n",
       "Unnamed: 11            2181\n",
       "League_Win               28\n",
       "World_Series            357\n",
       "Runs_Scored               0\n",
       "At_Bats                   0\n",
       "Hits                      0\n",
       "Doubles                   0\n",
       "Triples                   0\n",
       "Home_Runs                 0\n",
       "Walks                     0\n",
       "Strike_Outs             120\n",
       "Stolen_Bases            144\n",
       "Caught_Stealing         859\n",
       "Hit_By_Pitch           2325\n",
       "Sacrifice_Fly          2325\n",
       "Runs_Against              0\n",
       "Earned_Runs               0\n",
       "Earned_Run_Average        0\n",
       "Complete_Games            0\n",
       "Shutout                   0\n",
       "Saves                     0\n",
       "Infield_Put_Outs          0\n",
       "Hits_Allowed              0\n",
       "Home_Run_Allowed          0\n",
       "Walks_Allowed             0\n",
       "Strikeouts_Allowed        0\n",
       "Errors                    0\n",
       "Double_Plays            317\n",
       "Fielding_Percentage       0\n",
       "Team_Name                 0\n",
       "Home_Ball_Park           34\n",
       "Attendance              279\n",
       "dtype: int64"
      ]
     },
     "execution_count": 4,
     "metadata": {},
     "output_type": "execute_result"
    }
   ],
   "source": [
    "#checking null values\n",
    "df.isnull().sum()"
   ]
  },
  {
   "cell_type": "code",
   "execution_count": 5,
   "id": "f7f0ab66",
   "metadata": {
    "execution": {
     "iopub.execute_input": "2024-09-07T23:52:44.064795Z",
     "iopub.status.busy": "2024-09-07T23:52:44.064144Z",
     "iopub.status.idle": "2024-09-07T23:52:44.071025Z",
     "shell.execute_reply": "2024-09-07T23:52:44.070218Z"
    },
    "papermill": {
     "duration": 0.01775,
     "end_time": "2024-09-07T23:52:44.073009",
     "exception": false,
     "start_time": "2024-09-07T23:52:44.055259",
     "status": "completed"
    },
    "tags": []
   },
   "outputs": [],
   "source": [
    "#dropping the columns which are in larger missing value\n",
    "df.dropna(subset=['Hit_By_Pitch','Sacrifice_Fly','Division'],inplace=True)"
   ]
  },
  {
   "cell_type": "code",
   "execution_count": 6,
   "id": "a6128053",
   "metadata": {
    "execution": {
     "iopub.execute_input": "2024-09-07T23:52:44.090217Z",
     "iopub.status.busy": "2024-09-07T23:52:44.089863Z",
     "iopub.status.idle": "2024-09-07T23:52:44.112322Z",
     "shell.execute_reply": "2024-09-07T23:52:44.110917Z"
    },
    "papermill": {
     "duration": 0.03378,
     "end_time": "2024-09-07T23:52:44.114778",
     "exception": false,
     "start_time": "2024-09-07T23:52:44.080998",
     "status": "completed"
    },
    "tags": []
   },
   "outputs": [
    {
     "name": "stdout",
     "output_type": "stream",
     "text": [
      "      Year  League Team  Franchise  Division  Final_Standing  Games_Played  \\\n",
      "2325   2000     AL   ANA        ANA        W               3           162   \n",
      "2326   2000     NL   ARI        ARI        W               3           162   \n",
      "2327   2000     NL   ATL        ATL        E               1           162   \n",
      "2328   2000     AL   BAL        BAL        E               4           162   \n",
      "2329   2000     AL   BOS        BOS        E               2           162   \n",
      "...     ...    ...   ...        ...      ...             ...           ...   \n",
      "2800   2015     NL   LAN        LAD        W               1           162   \n",
      "2801   2015     NL   SFN        SFG        W               2           162   \n",
      "2802   2015     NL   ARI        ARI        W               3           162   \n",
      "2803   2015     NL   SDN        SDP        W               4           162   \n",
      "2804   2015     NL   COL        COL        W               5           162   \n",
      "\n",
      "      Unnamed: 7  Games_Won  Games_Lost  ... Hits_Allowed Home_Run_Allowed  \\\n",
      "2325        81.0         82          80  ...         1534              228   \n",
      "2326        81.0         85          77  ...         1441              190   \n",
      "2327        81.0         95          67  ...         1428              165   \n",
      "2328        81.0         74          88  ...         1547              202   \n",
      "2329        81.0         85          77  ...         1433              173   \n",
      "...          ...        ...         ...  ...          ...              ...   \n",
      "2800        81.0         92          70  ...         1317              145   \n",
      "2801        81.0         84          78  ...         1344              155   \n",
      "2802        81.0         79          83  ...         1450              182   \n",
      "2803        81.0         74          88  ...         1371              171   \n",
      "2804        81.0         68          94  ...         1579              183   \n",
      "\n",
      "     Walks_Allowed Strikeouts_Allowed  Errors  Double_Plays  \\\n",
      "2325           662                846     134         182.0   \n",
      "2326           500               1220     107         138.0   \n",
      "2327           484               1093     129         138.0   \n",
      "2328           665               1017     116         151.0   \n",
      "2329           498               1121     109         120.0   \n",
      "...            ...                ...     ...           ...   \n",
      "2800           395               1396      75         133.0   \n",
      "2801           431               1165      78         145.0   \n",
      "2802           500               1215      86         146.0   \n",
      "2803           516               1393      92         138.0   \n",
      "2804           579               1112      95         171.0   \n",
      "\n",
      "      Fielding_Percentage             Team_Name               Home_Ball_Park  \\\n",
      "2325                0.978        Anaheim Angels   Edison International Field   \n",
      "2326                0.982  Arizona Diamondbacks            Bank One Ballpark   \n",
      "2327                0.979        Atlanta Braves                 Turner Field   \n",
      "2328                0.981     Baltimore Orioles  Oriole Park at Camden Yards   \n",
      "2329                0.982        Boston Red Sox               Fenway Park II   \n",
      "...                   ...                   ...                          ...   \n",
      "2800                0.988   Los Angeles Dodgers               Dodger Stadium   \n",
      "2801                0.987  San Francisco Giants                    AT&T Park   \n",
      "2802                0.986  Arizona Diamondbacks                  Chase Field   \n",
      "2803                0.985      San Diego Padres                   Petco Park   \n",
      "2804                0.985      Colorado Rockies                  Coors Field   \n",
      "\n",
      "      Attendance  \n",
      "2325   2066982.0  \n",
      "2326   2942251.0  \n",
      "2327   3234304.0  \n",
      "2328   3297031.0  \n",
      "2329   2585895.0  \n",
      "...          ...  \n",
      "2800   3764815.0  \n",
      "2801   3375882.0  \n",
      "2802   2080145.0  \n",
      "2803   2459742.0  \n",
      "2804   2506789.0  \n",
      "\n",
      "[480 rows x 43 columns]\n"
     ]
    },
    {
     "name": "stderr",
     "output_type": "stream",
     "text": [
      "/tmp/ipykernel_17/248047769.py:9: FutureWarning: A value is trying to be set on a copy of a DataFrame or Series through chained assignment using an inplace method.\n",
      "The behavior will change in pandas 3.0. This inplace method will never work because the intermediate object on which we are setting values always behaves as a copy.\n",
      "\n",
      "For example, when doing 'df[col].method(value, inplace=True)', try using 'df.method({col: value}, inplace=True)' or df[col] = df[col].method(value) instead, to perform the operation inplace on the original object.\n",
      "\n",
      "\n",
      "  df[column].fillna(mode_value, inplace=True)\n",
      "/tmp/ipykernel_17/248047769.py:14: FutureWarning: A value is trying to be set on a copy of a DataFrame or Series through chained assignment using an inplace method.\n",
      "The behavior will change in pandas 3.0. This inplace method will never work because the intermediate object on which we are setting values always behaves as a copy.\n",
      "\n",
      "For example, when doing 'df[col].method(value, inplace=True)', try using 'df.method({col: value}, inplace=True)' or df[col] = df[col].method(value) instead, to perform the operation inplace on the original object.\n",
      "\n",
      "\n",
      "  df[column].fillna(median_value,inplace=True)\n"
     ]
    }
   ],
   "source": [
    "#replacing by median and mode values\n",
    "categorical_columns=['League','Home_Ball_Park']\n",
    "numerical_columns=['League_Win','Strike_Outs','Stolen_Bases','Caught_Stealing','Double_Plays']\n",
    "\n",
    "\n",
    "#using loop for categorical and numerical\n",
    "for column in categorical_columns:\n",
    "    mode_value=df[column].mode()\n",
    "df[column].fillna(mode_value, inplace=True)\n",
    "    \n",
    "\n",
    "for column in numerical_columns:\n",
    "    median_value=df[column].median()\n",
    "df[column].fillna(median_value,inplace=True)\n",
    "\n",
    "print(df)\n"
   ]
  },
  {
   "cell_type": "code",
   "execution_count": 7,
   "id": "ab8df22c",
   "metadata": {
    "execution": {
     "iopub.execute_input": "2024-09-07T23:52:44.133124Z",
     "iopub.status.busy": "2024-09-07T23:52:44.132414Z",
     "iopub.status.idle": "2024-09-07T23:52:44.140944Z",
     "shell.execute_reply": "2024-09-07T23:52:44.140003Z"
    },
    "papermill": {
     "duration": 0.020056,
     "end_time": "2024-09-07T23:52:44.143049",
     "exception": false,
     "start_time": "2024-09-07T23:52:44.122993",
     "status": "completed"
    },
    "tags": []
   },
   "outputs": [
    {
     "data": {
      "text/plain": [
       "Year                   0\n",
       "League                 0\n",
       "Team                   0\n",
       "Franchise              0\n",
       "Division               0\n",
       "Final_Standing         0\n",
       "Games_Played           0\n",
       "Unnamed: 7             0\n",
       "Games_Won              0\n",
       "Games_Lost             0\n",
       "Unnamed: 10            0\n",
       "Unnamed: 11            0\n",
       "League_Win             0\n",
       "World_Series           0\n",
       "Runs_Scored            0\n",
       "At_Bats                0\n",
       "Hits                   0\n",
       "Doubles                0\n",
       "Triples                0\n",
       "Home_Runs              0\n",
       "Walks                  0\n",
       "Strike_Outs            0\n",
       "Stolen_Bases           0\n",
       "Caught_Stealing        0\n",
       "Hit_By_Pitch           0\n",
       "Sacrifice_Fly          0\n",
       "Runs_Against           0\n",
       "Earned_Runs            0\n",
       "Earned_Run_Average     0\n",
       "Complete_Games         0\n",
       "Shutout                0\n",
       "Saves                  0\n",
       "Infield_Put_Outs       0\n",
       "Hits_Allowed           0\n",
       "Home_Run_Allowed       0\n",
       "Walks_Allowed          0\n",
       "Strikeouts_Allowed     0\n",
       "Errors                 0\n",
       "Double_Plays           0\n",
       "Fielding_Percentage    0\n",
       "Team_Name              0\n",
       "Home_Ball_Park         0\n",
       "Attendance             0\n",
       "dtype: int64"
      ]
     },
     "execution_count": 7,
     "metadata": {},
     "output_type": "execute_result"
    }
   ],
   "source": [
    "#checking for null values, its clean \n",
    "df.isnull().sum()"
   ]
  },
  {
   "cell_type": "code",
   "execution_count": 8,
   "id": "e5e1b7a3",
   "metadata": {
    "execution": {
     "iopub.execute_input": "2024-09-07T23:52:44.161254Z",
     "iopub.status.busy": "2024-09-07T23:52:44.160662Z",
     "iopub.status.idle": "2024-09-07T23:52:44.165522Z",
     "shell.execute_reply": "2024-09-07T23:52:44.164556Z"
    },
    "papermill": {
     "duration": 0.016139,
     "end_time": "2024-09-07T23:52:44.167548",
     "exception": false,
     "start_time": "2024-09-07T23:52:44.151409",
     "status": "completed"
    },
    "tags": []
   },
   "outputs": [],
   "source": [
    "# Remove leading and trailing spaces from column names\n",
    "df.columns = df.columns.str.strip()"
   ]
  },
  {
   "cell_type": "code",
   "execution_count": 9,
   "id": "c31d905d",
   "metadata": {
    "execution": {
     "iopub.execute_input": "2024-09-07T23:52:44.185393Z",
     "iopub.status.busy": "2024-09-07T23:52:44.185026Z",
     "iopub.status.idle": "2024-09-07T23:52:44.190693Z",
     "shell.execute_reply": "2024-09-07T23:52:44.189745Z"
    },
    "papermill": {
     "duration": 0.016807,
     "end_time": "2024-09-07T23:52:44.192692",
     "exception": false,
     "start_time": "2024-09-07T23:52:44.175885",
     "status": "completed"
    },
    "tags": []
   },
   "outputs": [],
   "source": [
    "#fetching the baseball data between 1960 to 2010\n",
    "baseball_data =df[(df.Year >= 1960) & (df.Year <= 2010)]"
   ]
  },
  {
   "cell_type": "code",
   "execution_count": 10,
   "id": "9aff00eb",
   "metadata": {
    "execution": {
     "iopub.execute_input": "2024-09-07T23:52:44.210978Z",
     "iopub.status.busy": "2024-09-07T23:52:44.210409Z",
     "iopub.status.idle": "2024-09-07T23:52:44.234612Z",
     "shell.execute_reply": "2024-09-07T23:52:44.233619Z"
    },
    "papermill": {
     "duration": 0.035499,
     "end_time": "2024-09-07T23:52:44.236548",
     "exception": false,
     "start_time": "2024-09-07T23:52:44.201049",
     "status": "completed"
    },
    "tags": []
   },
   "outputs": [
    {
     "data": {
      "text/html": [
       "<div>\n",
       "<style scoped>\n",
       "    .dataframe tbody tr th:only-of-type {\n",
       "        vertical-align: middle;\n",
       "    }\n",
       "\n",
       "    .dataframe tbody tr th {\n",
       "        vertical-align: top;\n",
       "    }\n",
       "\n",
       "    .dataframe thead th {\n",
       "        text-align: right;\n",
       "    }\n",
       "</style>\n",
       "<table border=\"1\" class=\"dataframe\">\n",
       "  <thead>\n",
       "    <tr style=\"text-align: right;\">\n",
       "      <th></th>\n",
       "      <th>Year</th>\n",
       "      <th>League</th>\n",
       "      <th>Team</th>\n",
       "      <th>Franchise</th>\n",
       "      <th>Division</th>\n",
       "      <th>Final_Standing</th>\n",
       "      <th>Games_Played</th>\n",
       "      <th>Unnamed: 7</th>\n",
       "      <th>Games_Won</th>\n",
       "      <th>Games_Lost</th>\n",
       "      <th>...</th>\n",
       "      <th>Hits_Allowed</th>\n",
       "      <th>Home_Run_Allowed</th>\n",
       "      <th>Walks_Allowed</th>\n",
       "      <th>Strikeouts_Allowed</th>\n",
       "      <th>Errors</th>\n",
       "      <th>Double_Plays</th>\n",
       "      <th>Fielding_Percentage</th>\n",
       "      <th>Team_Name</th>\n",
       "      <th>Home_Ball_Park</th>\n",
       "      <th>Attendance</th>\n",
       "    </tr>\n",
       "  </thead>\n",
       "  <tbody>\n",
       "    <tr>\n",
       "      <th>2325</th>\n",
       "      <td>2000</td>\n",
       "      <td>AL</td>\n",
       "      <td>ANA</td>\n",
       "      <td>ANA</td>\n",
       "      <td>W</td>\n",
       "      <td>3</td>\n",
       "      <td>162</td>\n",
       "      <td>81.0</td>\n",
       "      <td>82</td>\n",
       "      <td>80</td>\n",
       "      <td>...</td>\n",
       "      <td>1534</td>\n",
       "      <td>228</td>\n",
       "      <td>662</td>\n",
       "      <td>846</td>\n",
       "      <td>134</td>\n",
       "      <td>182.0</td>\n",
       "      <td>0.978</td>\n",
       "      <td>Anaheim Angels</td>\n",
       "      <td>Edison International Field</td>\n",
       "      <td>2066982.0</td>\n",
       "    </tr>\n",
       "    <tr>\n",
       "      <th>2326</th>\n",
       "      <td>2000</td>\n",
       "      <td>NL</td>\n",
       "      <td>ARI</td>\n",
       "      <td>ARI</td>\n",
       "      <td>W</td>\n",
       "      <td>3</td>\n",
       "      <td>162</td>\n",
       "      <td>81.0</td>\n",
       "      <td>85</td>\n",
       "      <td>77</td>\n",
       "      <td>...</td>\n",
       "      <td>1441</td>\n",
       "      <td>190</td>\n",
       "      <td>500</td>\n",
       "      <td>1220</td>\n",
       "      <td>107</td>\n",
       "      <td>138.0</td>\n",
       "      <td>0.982</td>\n",
       "      <td>Arizona Diamondbacks</td>\n",
       "      <td>Bank One Ballpark</td>\n",
       "      <td>2942251.0</td>\n",
       "    </tr>\n",
       "    <tr>\n",
       "      <th>2327</th>\n",
       "      <td>2000</td>\n",
       "      <td>NL</td>\n",
       "      <td>ATL</td>\n",
       "      <td>ATL</td>\n",
       "      <td>E</td>\n",
       "      <td>1</td>\n",
       "      <td>162</td>\n",
       "      <td>81.0</td>\n",
       "      <td>95</td>\n",
       "      <td>67</td>\n",
       "      <td>...</td>\n",
       "      <td>1428</td>\n",
       "      <td>165</td>\n",
       "      <td>484</td>\n",
       "      <td>1093</td>\n",
       "      <td>129</td>\n",
       "      <td>138.0</td>\n",
       "      <td>0.979</td>\n",
       "      <td>Atlanta Braves</td>\n",
       "      <td>Turner Field</td>\n",
       "      <td>3234304.0</td>\n",
       "    </tr>\n",
       "    <tr>\n",
       "      <th>2328</th>\n",
       "      <td>2000</td>\n",
       "      <td>AL</td>\n",
       "      <td>BAL</td>\n",
       "      <td>BAL</td>\n",
       "      <td>E</td>\n",
       "      <td>4</td>\n",
       "      <td>162</td>\n",
       "      <td>81.0</td>\n",
       "      <td>74</td>\n",
       "      <td>88</td>\n",
       "      <td>...</td>\n",
       "      <td>1547</td>\n",
       "      <td>202</td>\n",
       "      <td>665</td>\n",
       "      <td>1017</td>\n",
       "      <td>116</td>\n",
       "      <td>151.0</td>\n",
       "      <td>0.981</td>\n",
       "      <td>Baltimore Orioles</td>\n",
       "      <td>Oriole Park at Camden Yards</td>\n",
       "      <td>3297031.0</td>\n",
       "    </tr>\n",
       "    <tr>\n",
       "      <th>2329</th>\n",
       "      <td>2000</td>\n",
       "      <td>AL</td>\n",
       "      <td>BOS</td>\n",
       "      <td>BOS</td>\n",
       "      <td>E</td>\n",
       "      <td>2</td>\n",
       "      <td>162</td>\n",
       "      <td>81.0</td>\n",
       "      <td>85</td>\n",
       "      <td>77</td>\n",
       "      <td>...</td>\n",
       "      <td>1433</td>\n",
       "      <td>173</td>\n",
       "      <td>498</td>\n",
       "      <td>1121</td>\n",
       "      <td>109</td>\n",
       "      <td>120.0</td>\n",
       "      <td>0.982</td>\n",
       "      <td>Boston Red Sox</td>\n",
       "      <td>Fenway Park II</td>\n",
       "      <td>2585895.0</td>\n",
       "    </tr>\n",
       "    <tr>\n",
       "      <th>...</th>\n",
       "      <td>...</td>\n",
       "      <td>...</td>\n",
       "      <td>...</td>\n",
       "      <td>...</td>\n",
       "      <td>...</td>\n",
       "      <td>...</td>\n",
       "      <td>...</td>\n",
       "      <td>...</td>\n",
       "      <td>...</td>\n",
       "      <td>...</td>\n",
       "      <td>...</td>\n",
       "      <td>...</td>\n",
       "      <td>...</td>\n",
       "      <td>...</td>\n",
       "      <td>...</td>\n",
       "      <td>...</td>\n",
       "      <td>...</td>\n",
       "      <td>...</td>\n",
       "      <td>...</td>\n",
       "      <td>...</td>\n",
       "      <td>...</td>\n",
       "    </tr>\n",
       "    <tr>\n",
       "      <th>2650</th>\n",
       "      <td>2010</td>\n",
       "      <td>NL</td>\n",
       "      <td>SLN</td>\n",
       "      <td>STL</td>\n",
       "      <td>C</td>\n",
       "      <td>2</td>\n",
       "      <td>162</td>\n",
       "      <td>81.0</td>\n",
       "      <td>86</td>\n",
       "      <td>76</td>\n",
       "      <td>...</td>\n",
       "      <td>1412</td>\n",
       "      <td>133</td>\n",
       "      <td>477</td>\n",
       "      <td>1094</td>\n",
       "      <td>99</td>\n",
       "      <td>172.0</td>\n",
       "      <td>0.984</td>\n",
       "      <td>St. Louis Cardinals</td>\n",
       "      <td>Busch Stadium III</td>\n",
       "      <td>3301218.0</td>\n",
       "    </tr>\n",
       "    <tr>\n",
       "      <th>2651</th>\n",
       "      <td>2010</td>\n",
       "      <td>AL</td>\n",
       "      <td>TBA</td>\n",
       "      <td>TBD</td>\n",
       "      <td>E</td>\n",
       "      <td>1</td>\n",
       "      <td>162</td>\n",
       "      <td>81.0</td>\n",
       "      <td>96</td>\n",
       "      <td>66</td>\n",
       "      <td>...</td>\n",
       "      <td>1347</td>\n",
       "      <td>175</td>\n",
       "      <td>478</td>\n",
       "      <td>1189</td>\n",
       "      <td>85</td>\n",
       "      <td>134.0</td>\n",
       "      <td>0.986</td>\n",
       "      <td>Tampa Bay Rays</td>\n",
       "      <td>Tropicana Field</td>\n",
       "      <td>1843445.0</td>\n",
       "    </tr>\n",
       "    <tr>\n",
       "      <th>2652</th>\n",
       "      <td>2010</td>\n",
       "      <td>AL</td>\n",
       "      <td>TEX</td>\n",
       "      <td>TEX</td>\n",
       "      <td>W</td>\n",
       "      <td>1</td>\n",
       "      <td>162</td>\n",
       "      <td>81.0</td>\n",
       "      <td>90</td>\n",
       "      <td>72</td>\n",
       "      <td>...</td>\n",
       "      <td>1355</td>\n",
       "      <td>162</td>\n",
       "      <td>551</td>\n",
       "      <td>1181</td>\n",
       "      <td>105</td>\n",
       "      <td>133.0</td>\n",
       "      <td>0.982</td>\n",
       "      <td>Texas Rangers</td>\n",
       "      <td>Rangers Ballpark in Arlington</td>\n",
       "      <td>2505171.0</td>\n",
       "    </tr>\n",
       "    <tr>\n",
       "      <th>2653</th>\n",
       "      <td>2010</td>\n",
       "      <td>AL</td>\n",
       "      <td>TOR</td>\n",
       "      <td>TOR</td>\n",
       "      <td>E</td>\n",
       "      <td>4</td>\n",
       "      <td>162</td>\n",
       "      <td>78.0</td>\n",
       "      <td>85</td>\n",
       "      <td>77</td>\n",
       "      <td>...</td>\n",
       "      <td>1407</td>\n",
       "      <td>150</td>\n",
       "      <td>539</td>\n",
       "      <td>1184</td>\n",
       "      <td>92</td>\n",
       "      <td>172.0</td>\n",
       "      <td>0.985</td>\n",
       "      <td>Toronto Blue Jays</td>\n",
       "      <td>Rogers Centre</td>\n",
       "      <td>1625555.0</td>\n",
       "    </tr>\n",
       "    <tr>\n",
       "      <th>2654</th>\n",
       "      <td>2010</td>\n",
       "      <td>NL</td>\n",
       "      <td>WAS</td>\n",
       "      <td>WSN</td>\n",
       "      <td>E</td>\n",
       "      <td>5</td>\n",
       "      <td>162</td>\n",
       "      <td>81.0</td>\n",
       "      <td>69</td>\n",
       "      <td>93</td>\n",
       "      <td>...</td>\n",
       "      <td>1469</td>\n",
       "      <td>151</td>\n",
       "      <td>512</td>\n",
       "      <td>1068</td>\n",
       "      <td>127</td>\n",
       "      <td>148.0</td>\n",
       "      <td>0.979</td>\n",
       "      <td>Washington Nationals</td>\n",
       "      <td>Nationals Park</td>\n",
       "      <td>1828066.0</td>\n",
       "    </tr>\n",
       "  </tbody>\n",
       "</table>\n",
       "<p>330 rows × 43 columns</p>\n",
       "</div>"
      ],
      "text/plain": [
       "      Year League Team Franchise Division  Final_Standing  Games_Played  \\\n",
       "2325  2000     AL  ANA       ANA        W               3           162   \n",
       "2326  2000     NL  ARI       ARI        W               3           162   \n",
       "2327  2000     NL  ATL       ATL        E               1           162   \n",
       "2328  2000     AL  BAL       BAL        E               4           162   \n",
       "2329  2000     AL  BOS       BOS        E               2           162   \n",
       "...    ...    ...  ...       ...      ...             ...           ...   \n",
       "2650  2010     NL  SLN       STL        C               2           162   \n",
       "2651  2010     AL  TBA       TBD        E               1           162   \n",
       "2652  2010     AL  TEX       TEX        W               1           162   \n",
       "2653  2010     AL  TOR       TOR        E               4           162   \n",
       "2654  2010     NL  WAS       WSN        E               5           162   \n",
       "\n",
       "      Unnamed: 7  Games_Won  Games_Lost  ... Hits_Allowed Home_Run_Allowed  \\\n",
       "2325        81.0         82          80  ...         1534              228   \n",
       "2326        81.0         85          77  ...         1441              190   \n",
       "2327        81.0         95          67  ...         1428              165   \n",
       "2328        81.0         74          88  ...         1547              202   \n",
       "2329        81.0         85          77  ...         1433              173   \n",
       "...          ...        ...         ...  ...          ...              ...   \n",
       "2650        81.0         86          76  ...         1412              133   \n",
       "2651        81.0         96          66  ...         1347              175   \n",
       "2652        81.0         90          72  ...         1355              162   \n",
       "2653        78.0         85          77  ...         1407              150   \n",
       "2654        81.0         69          93  ...         1469              151   \n",
       "\n",
       "     Walks_Allowed Strikeouts_Allowed  Errors  Double_Plays  \\\n",
       "2325           662                846     134         182.0   \n",
       "2326           500               1220     107         138.0   \n",
       "2327           484               1093     129         138.0   \n",
       "2328           665               1017     116         151.0   \n",
       "2329           498               1121     109         120.0   \n",
       "...            ...                ...     ...           ...   \n",
       "2650           477               1094      99         172.0   \n",
       "2651           478               1189      85         134.0   \n",
       "2652           551               1181     105         133.0   \n",
       "2653           539               1184      92         172.0   \n",
       "2654           512               1068     127         148.0   \n",
       "\n",
       "      Fielding_Percentage             Team_Name  \\\n",
       "2325                0.978        Anaheim Angels   \n",
       "2326                0.982  Arizona Diamondbacks   \n",
       "2327                0.979        Atlanta Braves   \n",
       "2328                0.981     Baltimore Orioles   \n",
       "2329                0.982        Boston Red Sox   \n",
       "...                   ...                   ...   \n",
       "2650                0.984   St. Louis Cardinals   \n",
       "2651                0.986        Tampa Bay Rays   \n",
       "2652                0.982         Texas Rangers   \n",
       "2653                0.985     Toronto Blue Jays   \n",
       "2654                0.979  Washington Nationals   \n",
       "\n",
       "                     Home_Ball_Park  Attendance  \n",
       "2325     Edison International Field   2066982.0  \n",
       "2326              Bank One Ballpark   2942251.0  \n",
       "2327                   Turner Field   3234304.0  \n",
       "2328    Oriole Park at Camden Yards   3297031.0  \n",
       "2329                 Fenway Park II   2585895.0  \n",
       "...                             ...         ...  \n",
       "2650              Busch Stadium III   3301218.0  \n",
       "2651                Tropicana Field   1843445.0  \n",
       "2652  Rangers Ballpark in Arlington   2505171.0  \n",
       "2653                  Rogers Centre   1625555.0  \n",
       "2654                 Nationals Park   1828066.0  \n",
       "\n",
       "[330 rows x 43 columns]"
      ]
     },
     "execution_count": 10,
     "metadata": {},
     "output_type": "execute_result"
    }
   ],
   "source": [
    "baseball_data"
   ]
  },
  {
   "cell_type": "code",
   "execution_count": 11,
   "id": "afa958dc",
   "metadata": {
    "execution": {
     "iopub.execute_input": "2024-09-07T23:52:44.256507Z",
     "iopub.status.busy": "2024-09-07T23:52:44.255767Z",
     "iopub.status.idle": "2024-09-07T23:52:44.284652Z",
     "shell.execute_reply": "2024-09-07T23:52:44.283715Z"
    },
    "papermill": {
     "duration": 0.041201,
     "end_time": "2024-09-07T23:52:44.286741",
     "exception": false,
     "start_time": "2024-09-07T23:52:44.245540",
     "status": "completed"
    },
    "tags": []
   },
   "outputs": [
    {
     "data": {
      "text/html": [
       "<div>\n",
       "<style scoped>\n",
       "    .dataframe tbody tr th:only-of-type {\n",
       "        vertical-align: middle;\n",
       "    }\n",
       "\n",
       "    .dataframe tbody tr th {\n",
       "        vertical-align: top;\n",
       "    }\n",
       "\n",
       "    .dataframe thead th {\n",
       "        text-align: right;\n",
       "    }\n",
       "</style>\n",
       "<table border=\"1\" class=\"dataframe\">\n",
       "  <thead>\n",
       "    <tr style=\"text-align: right;\">\n",
       "      <th></th>\n",
       "      <th>Games_Won</th>\n",
       "      <th>Runs_Scored</th>\n",
       "      <th>Runs_Against</th>\n",
       "      <th>Hits_Allowed</th>\n",
       "      <th>Strikeouts_Allowed</th>\n",
       "      <th>Errors</th>\n",
       "      <th>Fielding_Percentage</th>\n",
       "      <th>Earned_Run_Average</th>\n",
       "    </tr>\n",
       "  </thead>\n",
       "  <tbody>\n",
       "    <tr>\n",
       "      <th>count</th>\n",
       "      <td>480.000000</td>\n",
       "      <td>480.000000</td>\n",
       "      <td>480.000000</td>\n",
       "      <td>480.000000</td>\n",
       "      <td>480.000000</td>\n",
       "      <td>480.000000</td>\n",
       "      <td>480.000000</td>\n",
       "      <td>480.000000</td>\n",
       "    </tr>\n",
       "    <tr>\n",
       "      <th>mean</th>\n",
       "      <td>80.968750</td>\n",
       "      <td>739.537500</td>\n",
       "      <td>739.537500</td>\n",
       "      <td>1448.314583</td>\n",
       "      <td>1115.756250</td>\n",
       "      <td>101.845833</td>\n",
       "      <td>0.983250</td>\n",
       "      <td>4.236125</td>\n",
       "    </tr>\n",
       "    <tr>\n",
       "      <th>std</th>\n",
       "      <td>11.417722</td>\n",
       "      <td>84.824137</td>\n",
       "      <td>89.044936</td>\n",
       "      <td>88.471024</td>\n",
       "      <td>126.013258</td>\n",
       "      <td>16.287641</td>\n",
       "      <td>0.002656</td>\n",
       "      <td>0.535741</td>\n",
       "    </tr>\n",
       "    <tr>\n",
       "      <th>min</th>\n",
       "      <td>43.000000</td>\n",
       "      <td>513.000000</td>\n",
       "      <td>525.000000</td>\n",
       "      <td>1233.000000</td>\n",
       "      <td>764.000000</td>\n",
       "      <td>54.000000</td>\n",
       "      <td>0.976000</td>\n",
       "      <td>2.940000</td>\n",
       "    </tr>\n",
       "    <tr>\n",
       "      <th>25%</th>\n",
       "      <td>72.000000</td>\n",
       "      <td>681.750000</td>\n",
       "      <td>675.750000</td>\n",
       "      <td>1383.750000</td>\n",
       "      <td>1020.000000</td>\n",
       "      <td>90.000000</td>\n",
       "      <td>0.982000</td>\n",
       "      <td>3.857500</td>\n",
       "    </tr>\n",
       "    <tr>\n",
       "      <th>50%</th>\n",
       "      <td>82.000000</td>\n",
       "      <td>735.000000</td>\n",
       "      <td>733.500000</td>\n",
       "      <td>1447.500000</td>\n",
       "      <td>1110.000000</td>\n",
       "      <td>101.000000</td>\n",
       "      <td>0.983000</td>\n",
       "      <td>4.200000</td>\n",
       "    </tr>\n",
       "    <tr>\n",
       "      <th>75%</th>\n",
       "      <td>90.000000</td>\n",
       "      <td>795.250000</td>\n",
       "      <td>801.000000</td>\n",
       "      <td>1506.500000</td>\n",
       "      <td>1208.250000</td>\n",
       "      <td>112.000000</td>\n",
       "      <td>0.985000</td>\n",
       "      <td>4.592500</td>\n",
       "    </tr>\n",
       "    <tr>\n",
       "      <th>max</th>\n",
       "      <td>116.000000</td>\n",
       "      <td>978.000000</td>\n",
       "      <td>974.000000</td>\n",
       "      <td>1683.000000</td>\n",
       "      <td>1450.000000</td>\n",
       "      <td>145.000000</td>\n",
       "      <td>0.991000</td>\n",
       "      <td>5.710000</td>\n",
       "    </tr>\n",
       "  </tbody>\n",
       "</table>\n",
       "</div>"
      ],
      "text/plain": [
       "        Games_Won  Runs_Scored  Runs_Against  Hits_Allowed  \\\n",
       "count  480.000000   480.000000    480.000000    480.000000   \n",
       "mean    80.968750   739.537500    739.537500   1448.314583   \n",
       "std     11.417722    84.824137     89.044936     88.471024   \n",
       "min     43.000000   513.000000    525.000000   1233.000000   \n",
       "25%     72.000000   681.750000    675.750000   1383.750000   \n",
       "50%     82.000000   735.000000    733.500000   1447.500000   \n",
       "75%     90.000000   795.250000    801.000000   1506.500000   \n",
       "max    116.000000   978.000000    974.000000   1683.000000   \n",
       "\n",
       "       Strikeouts_Allowed      Errors  Fielding_Percentage  Earned_Run_Average  \n",
       "count          480.000000  480.000000           480.000000          480.000000  \n",
       "mean          1115.756250  101.845833             0.983250            4.236125  \n",
       "std            126.013258   16.287641             0.002656            0.535741  \n",
       "min            764.000000   54.000000             0.976000            2.940000  \n",
       "25%           1020.000000   90.000000             0.982000            3.857500  \n",
       "50%           1110.000000  101.000000             0.983000            4.200000  \n",
       "75%           1208.250000  112.000000             0.985000            4.592500  \n",
       "max           1450.000000  145.000000             0.991000            5.710000  "
      ]
     },
     "execution_count": 11,
     "metadata": {},
     "output_type": "execute_result"
    }
   ],
   "source": [
    "variables=df[['Games_Won','Runs_Scored','Runs_Against','Hits_Allowed','Strikeouts_Allowed','Errors','Fielding_Percentage','Earned_Run_Average']]\n",
    "variables.describe()"
   ]
  },
  {
   "cell_type": "code",
   "execution_count": 12,
   "id": "427c86c1",
   "metadata": {
    "execution": {
     "iopub.execute_input": "2024-09-07T23:52:44.306900Z",
     "iopub.status.busy": "2024-09-07T23:52:44.306058Z",
     "iopub.status.idle": "2024-09-07T23:52:44.322919Z",
     "shell.execute_reply": "2024-09-07T23:52:44.321977Z"
    },
    "papermill": {
     "duration": 0.028883,
     "end_time": "2024-09-07T23:52:44.325012",
     "exception": false,
     "start_time": "2024-09-07T23:52:44.296129",
     "status": "completed"
    },
    "tags": []
   },
   "outputs": [
    {
     "data": {
      "text/html": [
       "<div>\n",
       "<style scoped>\n",
       "    .dataframe tbody tr th:only-of-type {\n",
       "        vertical-align: middle;\n",
       "    }\n",
       "\n",
       "    .dataframe tbody tr th {\n",
       "        vertical-align: top;\n",
       "    }\n",
       "\n",
       "    .dataframe thead th {\n",
       "        text-align: right;\n",
       "    }\n",
       "</style>\n",
       "<table border=\"1\" class=\"dataframe\">\n",
       "  <thead>\n",
       "    <tr style=\"text-align: right;\">\n",
       "      <th></th>\n",
       "      <th>Games_Won</th>\n",
       "      <th>Runs_Scored</th>\n",
       "      <th>Runs_Against</th>\n",
       "      <th>Hits_Allowed</th>\n",
       "      <th>Strikeouts_Allowed</th>\n",
       "      <th>Errors</th>\n",
       "      <th>Fielding_Percentage</th>\n",
       "      <th>Earned_Run_Average</th>\n",
       "    </tr>\n",
       "  </thead>\n",
       "  <tbody>\n",
       "    <tr>\n",
       "      <th>Games_Won</th>\n",
       "      <td>1.000000</td>\n",
       "      <td>0.513980</td>\n",
       "      <td>-0.617846</td>\n",
       "      <td>-0.511870</td>\n",
       "      <td>0.333489</td>\n",
       "      <td>-0.363009</td>\n",
       "      <td>0.371307</td>\n",
       "      <td>-0.615553</td>\n",
       "    </tr>\n",
       "    <tr>\n",
       "      <th>Runs_Scored</th>\n",
       "      <td>0.513980</td>\n",
       "      <td>1.000000</td>\n",
       "      <td>0.265793</td>\n",
       "      <td>0.249213</td>\n",
       "      <td>-0.237522</td>\n",
       "      <td>-0.015498</td>\n",
       "      <td>0.017753</td>\n",
       "      <td>0.264099</td>\n",
       "    </tr>\n",
       "    <tr>\n",
       "      <th>Runs_Against</th>\n",
       "      <td>-0.617846</td>\n",
       "      <td>0.265793</td>\n",
       "      <td>1.000000</td>\n",
       "      <td>0.876678</td>\n",
       "      <td>-0.614228</td>\n",
       "      <td>0.430937</td>\n",
       "      <td>-0.443104</td>\n",
       "      <td>0.988906</td>\n",
       "    </tr>\n",
       "    <tr>\n",
       "      <th>Hits_Allowed</th>\n",
       "      <td>-0.511870</td>\n",
       "      <td>0.249213</td>\n",
       "      <td>0.876678</td>\n",
       "      <td>1.000000</td>\n",
       "      <td>-0.659028</td>\n",
       "      <td>0.337316</td>\n",
       "      <td>-0.332188</td>\n",
       "      <td>0.869743</td>\n",
       "    </tr>\n",
       "    <tr>\n",
       "      <th>Strikeouts_Allowed</th>\n",
       "      <td>0.333489</td>\n",
       "      <td>-0.237522</td>\n",
       "      <td>-0.614228</td>\n",
       "      <td>-0.659028</td>\n",
       "      <td>1.000000</td>\n",
       "      <td>-0.296472</td>\n",
       "      <td>0.273888</td>\n",
       "      <td>-0.619729</td>\n",
       "    </tr>\n",
       "    <tr>\n",
       "      <th>Errors</th>\n",
       "      <td>-0.363009</td>\n",
       "      <td>-0.015498</td>\n",
       "      <td>0.430937</td>\n",
       "      <td>0.337316</td>\n",
       "      <td>-0.296472</td>\n",
       "      <td>1.000000</td>\n",
       "      <td>-0.987505</td>\n",
       "      <td>0.349861</td>\n",
       "    </tr>\n",
       "    <tr>\n",
       "      <th>Fielding_Percentage</th>\n",
       "      <td>0.371307</td>\n",
       "      <td>0.017753</td>\n",
       "      <td>-0.443104</td>\n",
       "      <td>-0.332188</td>\n",
       "      <td>0.273888</td>\n",
       "      <td>-0.987505</td>\n",
       "      <td>1.000000</td>\n",
       "      <td>-0.366769</td>\n",
       "    </tr>\n",
       "    <tr>\n",
       "      <th>Earned_Run_Average</th>\n",
       "      <td>-0.615553</td>\n",
       "      <td>0.264099</td>\n",
       "      <td>0.988906</td>\n",
       "      <td>0.869743</td>\n",
       "      <td>-0.619729</td>\n",
       "      <td>0.349861</td>\n",
       "      <td>-0.366769</td>\n",
       "      <td>1.000000</td>\n",
       "    </tr>\n",
       "  </tbody>\n",
       "</table>\n",
       "</div>"
      ],
      "text/plain": [
       "                     Games_Won  Runs_Scored  Runs_Against  Hits_Allowed  \\\n",
       "Games_Won             1.000000     0.513980     -0.617846     -0.511870   \n",
       "Runs_Scored           0.513980     1.000000      0.265793      0.249213   \n",
       "Runs_Against         -0.617846     0.265793      1.000000      0.876678   \n",
       "Hits_Allowed         -0.511870     0.249213      0.876678      1.000000   \n",
       "Strikeouts_Allowed    0.333489    -0.237522     -0.614228     -0.659028   \n",
       "Errors               -0.363009    -0.015498      0.430937      0.337316   \n",
       "Fielding_Percentage   0.371307     0.017753     -0.443104     -0.332188   \n",
       "Earned_Run_Average   -0.615553     0.264099      0.988906      0.869743   \n",
       "\n",
       "                     Strikeouts_Allowed    Errors  Fielding_Percentage  \\\n",
       "Games_Won                      0.333489 -0.363009             0.371307   \n",
       "Runs_Scored                   -0.237522 -0.015498             0.017753   \n",
       "Runs_Against                  -0.614228  0.430937            -0.443104   \n",
       "Hits_Allowed                  -0.659028  0.337316            -0.332188   \n",
       "Strikeouts_Allowed             1.000000 -0.296472             0.273888   \n",
       "Errors                        -0.296472  1.000000            -0.987505   \n",
       "Fielding_Percentage            0.273888 -0.987505             1.000000   \n",
       "Earned_Run_Average            -0.619729  0.349861            -0.366769   \n",
       "\n",
       "                     Earned_Run_Average  \n",
       "Games_Won                     -0.615553  \n",
       "Runs_Scored                    0.264099  \n",
       "Runs_Against                   0.988906  \n",
       "Hits_Allowed                   0.869743  \n",
       "Strikeouts_Allowed            -0.619729  \n",
       "Errors                         0.349861  \n",
       "Fielding_Percentage           -0.366769  \n",
       "Earned_Run_Average             1.000000  "
      ]
     },
     "execution_count": 12,
     "metadata": {},
     "output_type": "execute_result"
    }
   ],
   "source": [
    "variables.corr()"
   ]
  },
  {
   "cell_type": "code",
   "execution_count": 13,
   "id": "aa7979ef",
   "metadata": {
    "execution": {
     "iopub.execute_input": "2024-09-07T23:52:44.345406Z",
     "iopub.status.busy": "2024-09-07T23:52:44.344799Z",
     "iopub.status.idle": "2024-09-07T23:52:44.939187Z",
     "shell.execute_reply": "2024-09-07T23:52:44.938139Z"
    },
    "papermill": {
     "duration": 0.607927,
     "end_time": "2024-09-07T23:52:44.942507",
     "exception": false,
     "start_time": "2024-09-07T23:52:44.334580",
     "status": "completed"
    },
    "tags": []
   },
   "outputs": [
    {
     "data": {
      "image/png": "[encoded data removed]",
      "text/plain": [
       "<Figure size 2000x1000 with 2 Axes>"
      ]
     },
     "metadata": {},
     "output_type": "display_data"
    }
   ],
   "source": [
    "corr_matrix=variables.corr()\n",
    "plt.figure(figsize=(20, 10))\n",
    "sns.heatmap(corr_matrix, annot=True, cmap='coolwarm', fmt=\".2f\", linewidths=.5, square=True,xticklabels=corr_matrix.columns, yticklabels=corr_matrix.columns,center=0)\n",
    "plt.title('Correlation Heatmap')\n",
    "plt.xticks(rotation=45)\n",
    "plt.yticks(rotation=45)\n",
    "plt.tight_layout()\n",
    "plt.show()"
   ]
  },
  {
   "cell_type": "code",
   "execution_count": 14,
   "id": "920cc9e5",
   "metadata": {
    "execution": {
     "iopub.execute_input": "2024-09-07T23:52:44.967944Z",
     "iopub.status.busy": "2024-09-07T23:52:44.967468Z",
     "iopub.status.idle": "2024-09-07T23:52:44.973172Z",
     "shell.execute_reply": "2024-09-07T23:52:44.972254Z"
    },
    "papermill": {
     "duration": 0.020529,
     "end_time": "2024-09-07T23:52:44.975258",
     "exception": false,
     "start_time": "2024-09-07T23:52:44.954729",
     "status": "completed"
    },
    "tags": []
   },
   "outputs": [],
   "source": [
    "variables=df[['Games_Won','Runs_Scored','Runs_Against','Hits_Allowed','Strikeouts_Allowed','Errors','Fielding_Percentage','Earned_Run_Average']]"
   ]
  },
  {
   "cell_type": "code",
   "execution_count": 15,
   "id": "294a1037",
   "metadata": {
    "execution": {
     "iopub.execute_input": "2024-09-07T23:52:44.999926Z",
     "iopub.status.busy": "2024-09-07T23:52:44.999138Z",
     "iopub.status.idle": "2024-09-07T23:52:45.350995Z",
     "shell.execute_reply": "2024-09-07T23:52:45.349942Z"
    },
    "papermill": {
     "duration": 0.366647,
     "end_time": "2024-09-07T23:52:45.353298",
     "exception": false,
     "start_time": "2024-09-07T23:52:44.986651",
     "status": "completed"
    },
    "tags": []
   },
   "outputs": [
    {
     "name": "stdout",
     "output_type": "stream",
     "text": [
      "Mean:80.96875\n",
      "Median:82.0\n"
     ]
    },
    {
     "data": {
      "image/png": "[encoded data removed]",
      "text/plain": [
       "<Figure size 800x600 with 1 Axes>"
      ]
     },
     "metadata": {},
     "output_type": "display_data"
    }
   ],
   "source": [
    "# Calculate mean and median\n",
    "from scipy.stats import trim_mean\n",
    "mean_value = df['Games_Won'].mean()\n",
    "median_value = df['Games_Won'].median()\n",
    "\n",
    "print(f'Mean:{mean_value}')\n",
    "print(f'Median:{median_value}')\n",
    "\n",
    "# Set figure size\n",
    "plt.rcParams[\"figure.figsize\"] = (8, 6)\n",
    "\n",
    "# Create histogram and get bin edges using function\n",
    "hist, bin_edges = np.histogram(df['Games_Won'], bins=40, density=True)\n",
    "\n",
    "# Plot histogram\n",
    "plt.hist(df['Games_Won'], bins=40, density=True, edgecolor='grey', alpha=0.4)\n",
    "\n",
    "# Add mean and median lines\n",
    "plt.axvline(mean_value, color='r', linestyle='dashed', linewidth=1, label=f'Mean: {mean_value:.2f}')\n",
    "plt.axvline(median_value, color='g', linestyle='dashed', linewidth=1, label=f'Median: {median_value:.2f}')\n",
    "\n",
    "# Fit a normal distribution to the data\n",
    "mn, std = sts.norm.fit(df['Games_Won'])  # Mean and standard deviation of the normal distribution\n",
    "\n",
    "# Generate x values for the normal distribution curve\n",
    "x_bin= np.linspace(bin_edges[0], bin_edges[-1], 100)\n",
    "\n",
    "# Calculate normal distribution curve\n",
    "y_curve = sts.norm.pdf(x_bin, mn, std)\n",
    "\n",
    "# Plot normal distribution curve\n",
    "plt.plot(x_bin, y_curve, 'k', linewidth=2, label='Normal Distribution Fit')\n",
    "\n",
    "# Add labels, title, and legend\n",
    "plt.xlabel('Games Won')\n",
    "plt.ylabel('Density')\n",
    "plt.title('Histogram of Games Won with Mean, Median, and Normal Distribution Fit')\n",
    "plt.legend()\n",
    "\n",
    "# Show plot\n",
    "plt.show()"
   ]
  },
  {
   "cell_type": "code",
   "execution_count": 16,
   "id": "45f213c5",
   "metadata": {
    "execution": {
     "iopub.execute_input": "2024-09-07T23:52:45.382620Z",
     "iopub.status.busy": "2024-09-07T23:52:45.382155Z",
     "iopub.status.idle": "2024-09-07T23:52:45.551995Z",
     "shell.execute_reply": "2024-09-07T23:52:45.550901Z"
    },
    "papermill": {
     "duration": 0.187029,
     "end_time": "2024-09-07T23:52:45.554155",
     "exception": false,
     "start_time": "2024-09-07T23:52:45.367126",
     "status": "completed"
    },
    "tags": []
   },
   "outputs": [
    {
     "data": {
      "text/plain": [
       "<Axes: title={'center': 'Boxplot of Games_won'}>"
      ]
     },
     "execution_count": 16,
     "metadata": {},
     "output_type": "execute_result"
    },
    {
     "data": {
      "image/png": "[encoded data removed]",
      "text/plain": [
       "<Figure size 500x300 with 1 Axes>"
      ]
     },
     "metadata": {},
     "output_type": "display_data"
    }
   ],
   "source": [
    "#boxplot for the variable \"Games_Won\"\n",
    "plt.rcParams[\"figure.figsize\"]=(5,3)\n",
    "df['Games_Won'].plot(kind='box',vert=False,title='Boxplot of Games_won')"
   ]
  },
  {
   "cell_type": "markdown",
   "id": "00101ece",
   "metadata": {
    "papermill": {
     "duration": 0.012468,
     "end_time": "2024-09-07T23:52:45.579858",
     "exception": false,
     "start_time": "2024-09-07T23:52:45.567390",
     "status": "completed"
    },
    "tags": []
   },
   "source": [
    "Teams tend to have consistent performance levels across these metrics, with average values showing typical team achievements and challenges. Adjusting for unusual data helps in understanding the normal performance without the impact of extreme values."
   ]
  },
  {
   "cell_type": "code",
   "execution_count": 17,
   "id": "851864a5",
   "metadata": {
    "execution": {
     "iopub.execute_input": "2024-09-07T23:52:45.607830Z",
     "iopub.status.busy": "2024-09-07T23:52:45.607065Z",
     "iopub.status.idle": "2024-09-07T23:52:45.618984Z",
     "shell.execute_reply": "2024-09-07T23:52:45.617699Z"
    },
    "papermill": {
     "duration": 0.028465,
     "end_time": "2024-09-07T23:52:45.621095",
     "exception": false,
     "start_time": "2024-09-07T23:52:45.592630",
     "status": "completed"
    },
    "tags": []
   },
   "outputs": [
    {
     "data": {
      "text/html": [
       "<div>\n",
       "<style scoped>\n",
       "    .dataframe tbody tr th:only-of-type {\n",
       "        vertical-align: middle;\n",
       "    }\n",
       "\n",
       "    .dataframe tbody tr th {\n",
       "        vertical-align: top;\n",
       "    }\n",
       "\n",
       "    .dataframe thead th {\n",
       "        text-align: right;\n",
       "    }\n",
       "</style>\n",
       "<table border=\"1\" class=\"dataframe\">\n",
       "  <thead>\n",
       "    <tr style=\"text-align: right;\">\n",
       "      <th></th>\n",
       "      <th>Games_Won</th>\n",
       "      <th>Runs_Scored</th>\n",
       "    </tr>\n",
       "  </thead>\n",
       "  <tbody>\n",
       "    <tr>\n",
       "      <th>Games_Won</th>\n",
       "      <td>1.00000</td>\n",
       "      <td>0.51398</td>\n",
       "    </tr>\n",
       "    <tr>\n",
       "      <th>Runs_Scored</th>\n",
       "      <td>0.51398</td>\n",
       "      <td>1.00000</td>\n",
       "    </tr>\n",
       "  </tbody>\n",
       "</table>\n",
       "</div>"
      ],
      "text/plain": [
       "             Games_Won  Runs_Scored\n",
       "Games_Won      1.00000      0.51398\n",
       "Runs_Scored    0.51398      1.00000"
      ]
     },
     "execution_count": 17,
     "metadata": {},
     "output_type": "execute_result"
    }
   ],
   "source": [
    "var=df[['Games_Won','Runs_Scored']]\n",
    "var.corr()"
   ]
  },
  {
   "cell_type": "code",
   "execution_count": 18,
   "id": "a04a742d",
   "metadata": {
    "execution": {
     "iopub.execute_input": "2024-09-07T23:52:45.649384Z",
     "iopub.status.busy": "2024-09-07T23:52:45.648515Z",
     "iopub.status.idle": "2024-09-07T23:52:45.928925Z",
     "shell.execute_reply": "2024-09-07T23:52:45.927824Z"
    },
    "papermill": {
     "duration": 0.296818,
     "end_time": "2024-09-07T23:52:45.931216",
     "exception": false,
     "start_time": "2024-09-07T23:52:45.634398",
     "status": "completed"
    },
    "tags": []
   },
   "outputs": [
    {
     "data": {
      "text/plain": [
       "<Axes: >"
      ]
     },
     "execution_count": 18,
     "metadata": {},
     "output_type": "execute_result"
    },
    {
     "data": {
      "image/png": "[encoded data removed]",
      "text/plain": [
       "<Figure size 1000x800 with 2 Axes>"
      ]
     },
     "metadata": {},
     "output_type": "display_data"
    }
   ],
   "source": [
    "corr_matrix1= var.corr()\n",
    "plt.figure(figsize=(10,8))\n",
    "sns.heatmap(corr_matrix1,annot=True,cmap='viridis',fmt='.2f',linewidth=.2,square=True,annot_kws={\"size\": 10},cbar_kws={\"shrink\": .8})"
   ]
  },
  {
   "cell_type": "code",
   "execution_count": 19,
   "id": "e555d4d3",
   "metadata": {
    "execution": {
     "iopub.execute_input": "2024-09-07T23:52:45.961360Z",
     "iopub.status.busy": "2024-09-07T23:52:45.960953Z",
     "iopub.status.idle": "2024-09-07T23:52:45.972529Z",
     "shell.execute_reply": "2024-09-07T23:52:45.971491Z"
    },
    "papermill": {
     "duration": 0.02902,
     "end_time": "2024-09-07T23:52:45.974639",
     "exception": false,
     "start_time": "2024-09-07T23:52:45.945619",
     "status": "completed"
    },
    "tags": []
   },
   "outputs": [
    {
     "data": {
      "text/html": [
       "<div>\n",
       "<style scoped>\n",
       "    .dataframe tbody tr th:only-of-type {\n",
       "        vertical-align: middle;\n",
       "    }\n",
       "\n",
       "    .dataframe tbody tr th {\n",
       "        vertical-align: top;\n",
       "    }\n",
       "\n",
       "    .dataframe thead th {\n",
       "        text-align: right;\n",
       "    }\n",
       "</style>\n",
       "<table border=\"1\" class=\"dataframe\">\n",
       "  <thead>\n",
       "    <tr style=\"text-align: right;\">\n",
       "      <th></th>\n",
       "      <th>Games_Won</th>\n",
       "      <th>Runs_Against</th>\n",
       "    </tr>\n",
       "  </thead>\n",
       "  <tbody>\n",
       "    <tr>\n",
       "      <th>Games_Won</th>\n",
       "      <td>1.000000</td>\n",
       "      <td>-0.617846</td>\n",
       "    </tr>\n",
       "    <tr>\n",
       "      <th>Runs_Against</th>\n",
       "      <td>-0.617846</td>\n",
       "      <td>1.000000</td>\n",
       "    </tr>\n",
       "  </tbody>\n",
       "</table>\n",
       "</div>"
      ],
      "text/plain": [
       "              Games_Won  Runs_Against\n",
       "Games_Won      1.000000     -0.617846\n",
       "Runs_Against  -0.617846      1.000000"
      ]
     },
     "execution_count": 19,
     "metadata": {},
     "output_type": "execute_result"
    }
   ],
   "source": [
    "varr=df[['Games_Won','Runs_Against']]\n",
    "varr.corr()"
   ]
  },
  {
   "cell_type": "code",
   "execution_count": 20,
   "id": "7e61401c",
   "metadata": {
    "execution": {
     "iopub.execute_input": "2024-09-07T23:52:46.004036Z",
     "iopub.status.busy": "2024-09-07T23:52:46.003391Z",
     "iopub.status.idle": "2024-09-07T23:52:46.313178Z",
     "shell.execute_reply": "2024-09-07T23:52:46.312108Z"
    },
    "papermill": {
     "duration": 0.326789,
     "end_time": "2024-09-07T23:52:46.315276",
     "exception": false,
     "start_time": "2024-09-07T23:52:45.988487",
     "status": "completed"
    },
    "tags": []
   },
   "outputs": [
    {
     "data": {
      "text/plain": [
       "<Axes: >"
      ]
     },
     "execution_count": 20,
     "metadata": {},
     "output_type": "execute_result"
    },
    {
     "data": {
      "image/png": "[encoded data removed]",
      "text/plain": [
       "<Figure size 1000x800 with 2 Axes>"
      ]
     },
     "metadata": {},
     "output_type": "display_data"
    }
   ],
   "source": [
    "corr_matrix=varr.corr()\n",
    "plt.figure(figsize=(10,8))\n",
    "sns.heatmap(corr_matrix,annot=True,fmt='.2f',cmap='coolwarm',linewidth='.2',square=True)"
   ]
  },
  {
   "cell_type": "code",
   "execution_count": 21,
   "id": "57839008",
   "metadata": {
    "execution": {
     "iopub.execute_input": "2024-09-07T23:52:46.346154Z",
     "iopub.status.busy": "2024-09-07T23:52:46.345295Z",
     "iopub.status.idle": "2024-09-07T23:52:46.355307Z",
     "shell.execute_reply": "2024-09-07T23:52:46.354038Z"
    },
    "papermill": {
     "duration": 0.027475,
     "end_time": "2024-09-07T23:52:46.357368",
     "exception": false,
     "start_time": "2024-09-07T23:52:46.329893",
     "status": "completed"
    },
    "tags": []
   },
   "outputs": [
    {
     "name": "stdout",
     "output_type": "stream",
     "text": [
      "Correlation between 'var_minus' and 'Games_Won': 0.94\n"
     ]
    }
   ],
   "source": [
    "varr=df[['Games_Won','Runs_Against','Runs_Scored']]\n",
    "df['var_minus'] = df['Runs_Scored'] - df['Runs_Against']\n",
    "varrr=['Games_Won','var_minus']\n",
    "correlation = df['var_minus'].corr(df['Games_Won'])\n",
    "print(f\"Correlation between 'var_minus' and 'Games_Won': {correlation:.2f}\")"
   ]
  },
  {
   "cell_type": "code",
   "execution_count": 22,
   "id": "cc195fab",
   "metadata": {
    "execution": {
     "iopub.execute_input": "2024-09-07T23:52:46.389923Z",
     "iopub.status.busy": "2024-09-07T23:52:46.389013Z",
     "iopub.status.idle": "2024-09-07T23:52:46.396474Z",
     "shell.execute_reply": "2024-09-07T23:52:46.395426Z"
    },
    "papermill": {
     "duration": 0.02679,
     "end_time": "2024-09-07T23:52:46.398590",
     "exception": false,
     "start_time": "2024-09-07T23:52:46.371800",
     "status": "completed"
    },
    "tags": []
   },
   "outputs": [
    {
     "name": "stdout",
     "output_type": "stream",
     "text": [
      "Correlation between Runs_Scored and Games_Lost: -0.51\n"
     ]
    }
   ],
   "source": [
    "varr=df[['Runs_Scored','Games_Lost']]\n",
    "corr_matrix = varr.corr()\n",
    "correlation = corr_matrix.loc['Runs_Scored', 'Games_Lost']\n",
    "print(f\"Correlation between Runs_Scored and Games_Lost: {correlation:.2f}\")"
   ]
  },
  {
   "cell_type": "code",
   "execution_count": 23,
   "id": "95006186",
   "metadata": {
    "execution": {
     "iopub.execute_input": "2024-09-07T23:52:46.429377Z",
     "iopub.status.busy": "2024-09-07T23:52:46.428667Z",
     "iopub.status.idle": "2024-09-07T23:52:46.435778Z",
     "shell.execute_reply": "2024-09-07T23:52:46.434786Z"
    },
    "papermill": {
     "duration": 0.024659,
     "end_time": "2024-09-07T23:52:46.437960",
     "exception": false,
     "start_time": "2024-09-07T23:52:46.413301",
     "status": "completed"
    },
    "tags": []
   },
   "outputs": [
    {
     "name": "stdout",
     "output_type": "stream",
     "text": [
      "Correlation between Runs_Scored and Games_Lost: 0.62\n"
     ]
    }
   ],
   "source": [
    "varr=df[['Runs_Against','Games_Lost']]\n",
    "corr_matrix = varr.corr()\n",
    "correlation = corr_matrix.loc['Runs_Against', 'Games_Lost']\n",
    "print(f\"Correlation between Runs_Scored and Games_Lost: {correlation:.2f}\")"
   ]
  },
  {
   "cell_type": "code",
   "execution_count": 24,
   "id": "9711406f",
   "metadata": {
    "execution": {
     "iopub.execute_input": "2024-09-07T23:52:46.469031Z",
     "iopub.status.busy": "2024-09-07T23:52:46.468114Z",
     "iopub.status.idle": "2024-09-07T23:52:46.476537Z",
     "shell.execute_reply": "2024-09-07T23:52:46.475461Z"
    },
    "papermill": {
     "duration": 0.026095,
     "end_time": "2024-09-07T23:52:46.478591",
     "exception": false,
     "start_time": "2024-09-07T23:52:46.452496",
     "status": "completed"
    },
    "tags": []
   },
   "outputs": [
    {
     "name": "stdout",
     "output_type": "stream",
     "text": [
      "Correlation between 'var_minus' and 'Games_Lost': -0.93\n"
     ]
    }
   ],
   "source": [
    "varr=df[['Games_Lost','Runs_Against','Runs_Scored']]\n",
    "df['var_minus'] = df['Runs_Scored'] - df['Runs_Against']\n",
    "varrr=['Games_Lost','var_minus']\n",
    "correlation = df['var_minus'].corr(df['Games_Lost'])\n",
    "print(f\"Correlation between 'var_minus' and 'Games_Lost': {correlation:.2f}\")"
   ]
  },
  {
   "cell_type": "markdown",
   "id": "52042d59",
   "metadata": {
    "papermill": {
     "duration": 0.014116,
     "end_time": "2024-09-07T23:52:46.507268",
     "exception": false,
     "start_time": "2024-09-07T23:52:46.493152",
     "status": "completed"
    },
    "tags": []
   },
   "source": [
    "Margin of Victory & Games Won: A strong positive correlation (0.94) shows that a larger margin of victory (runs scored minus runs allowed) strongly predicts more wins.\n",
    "\n",
    "Runs Scored & Games Lost: A moderate negative correlation (-0.51) indicates that scoring more runs tends to reduce the number of games lost.\n",
    "\n",
    "Runs Allowed & Games Lost: A moderate positive correlation (0.62) suggests that allowing more runs is linked to more losses.\n",
    "\n",
    "Margin of Victory & Games Lost: A strong negative correlation (-0.93) confirms that a higher margin of victory is closely associated with fewer losses."
   ]
  },
  {
   "cell_type": "code",
   "execution_count": 25,
   "id": "888d617f",
   "metadata": {
    "execution": {
     "iopub.execute_input": "2024-09-07T23:52:46.537979Z",
     "iopub.status.busy": "2024-09-07T23:52:46.537590Z",
     "iopub.status.idle": "2024-09-07T23:52:48.022072Z",
     "shell.execute_reply": "2024-09-07T23:52:48.021012Z"
    },
    "papermill": {
     "duration": 1.50253,
     "end_time": "2024-09-07T23:52:48.024405",
     "exception": false,
     "start_time": "2024-09-07T23:52:46.521875",
     "status": "completed"
    },
    "tags": []
   },
   "outputs": [
    {
     "name": "stdout",
     "output_type": "stream",
     "text": [
      "Model 1 Summary:\n",
      "                            OLS Regression Results                            \n",
      "==============================================================================\n",
      "Dep. Variable:              Games_Won   R-squared:                       0.264\n",
      "Model:                            OLS   Adj. R-squared:                  0.263\n",
      "Method:                 Least Squares   F-statistic:                     171.6\n",
      "Date:                Sat, 07 Sep 2024   Prob (F-statistic):           1.02e-33\n",
      "Time:                        23:52:48   Log-Likelihood:                -1775.8\n",
      "No. Observations:                 480   AIC:                             3556.\n",
      "Df Residuals:                     478   BIC:                             3564.\n",
      "Df Model:                           1                                         \n",
      "Covariance Type:            nonrobust                                         \n",
      "===============================================================================\n",
      "                  coef    std err          t      P>|t|      [0.025      0.975]\n",
      "-------------------------------------------------------------------------------\n",
      "const          29.8045      3.931      7.582      0.000      22.080      37.529\n",
      "Runs_Scored     0.0692      0.005     13.100      0.000       0.059       0.080\n",
      "==============================================================================\n",
      "Omnibus:                       11.122   Durbin-Watson:                   1.908\n",
      "Prob(Omnibus):                  0.004   Jarque-Bera (JB):                6.772\n",
      "Skew:                          -0.115   Prob(JB):                       0.0338\n",
      "Kurtosis:                       2.466   Cond. No.                     6.54e+03\n",
      "==============================================================================\n",
      "\n",
      "Notes:\n",
      "[1] Standard Errors assume that the covariance matrix of the errors is correctly specified.\n",
      "[2] The condition number is large, 6.54e+03. This might indicate that there are\n",
      "strong multicollinearity or other numerical problems.\n"
     ]
    }
   ],
   "source": [
    "import statsmodels.api as sm\n",
    "X1 = df[['Runs_Scored']]\n",
    "y = df[['Games_Won']]\n",
    "X1 = sm.add_constant(X1) #add intercept\n",
    "model1 = sm.OLS(y,X1).fit()\n",
    "print(\"Model 1 Summary:\")\n",
    "print(model1.summary())"
   ]
  },
  {
   "cell_type": "markdown",
   "id": "ff20906d",
   "metadata": {
    "papermill": {
     "duration": 0.014399,
     "end_time": "2024-09-07T23:52:48.053747",
     "exception": false,
     "start_time": "2024-09-07T23:52:48.039348",
     "status": "completed"
    },
    "tags": []
   },
   "source": [
    "Summary of Our Analysis Runs Scored and Wins:\n",
    "\n",
    "Key Insight: Every time a team scores one more run, they win about 0.07 more games. In Simple Terms: The more runs a team scores, the more games they tend to win. Model Effectiveness:\n",
    "\n",
    "How Well It Works: Our model explains about 26% of the reasons why games are won. This means scoring more runs helps, but there are other factors that also affect wins. Confidence in Results:\n",
    "\n",
    "Reliability: The results are reliable and not just by chance. However, the model has some minor issues, but it still gives us useful insights. What This Means for You Takeaway: To improve your chances of winning, focus on increasing the number of runs your team scores. Additional Factors: Remember, other things also impact the outcome of games, like how well your team defends and the strength of the opponents."
   ]
  },
  {
   "cell_type": "code",
   "execution_count": 26,
   "id": "e43f7c7a",
   "metadata": {
    "execution": {
     "iopub.execute_input": "2024-09-07T23:52:48.085179Z",
     "iopub.status.busy": "2024-09-07T23:52:48.084128Z",
     "iopub.status.idle": "2024-09-07T23:52:48.102872Z",
     "shell.execute_reply": "2024-09-07T23:52:48.101766Z"
    },
    "papermill": {
     "duration": 0.036633,
     "end_time": "2024-09-07T23:52:48.105030",
     "exception": false,
     "start_time": "2024-09-07T23:52:48.068397",
     "status": "completed"
    },
    "tags": []
   },
   "outputs": [
    {
     "name": "stdout",
     "output_type": "stream",
     "text": [
      "Model 2 Summary:\n",
      "                            OLS Regression Results                            \n",
      "==============================================================================\n",
      "Dep. Variable:              Games_Won   R-squared:                       0.382\n",
      "Model:                            OLS   Adj. R-squared:                  0.380\n",
      "Method:                 Least Squares   F-statistic:                     295.1\n",
      "Date:                Sat, 07 Sep 2024   Prob (F-statistic):           7.25e-52\n",
      "Time:                        23:52:48   Log-Likelihood:                -1734.1\n",
      "No. Observations:                 480   AIC:                             3472.\n",
      "Df Residuals:                     478   BIC:                             3480.\n",
      "Df Model:                           1                                         \n",
      "Covariance Type:            nonrobust                                         \n",
      "================================================================================\n",
      "                   coef    std err          t      P>|t|      [0.025      0.975]\n",
      "--------------------------------------------------------------------------------\n",
      "const          139.5571      3.435     40.628      0.000     132.808     146.307\n",
      "Runs_Against    -0.0792      0.005    -17.179      0.000      -0.088      -0.070\n",
      "==============================================================================\n",
      "Omnibus:                        0.539   Durbin-Watson:                   1.843\n",
      "Prob(Omnibus):                  0.764   Jarque-Bera (JB):                0.644\n",
      "Skew:                           0.011   Prob(JB):                        0.725\n",
      "Kurtosis:                       2.822   Cond. No.                     6.24e+03\n",
      "==============================================================================\n",
      "\n",
      "Notes:\n",
      "[1] Standard Errors assume that the covariance matrix of the errors is correctly specified.\n",
      "[2] The condition number is large, 6.24e+03. This might indicate that there are\n",
      "strong multicollinearity or other numerical problems.\n"
     ]
    }
   ],
   "source": [
    "import statsmodels.api as sm\n",
    "X1 = df[['Runs_Against']]\n",
    "y = df[['Games_Won']]\n",
    "X1 = sm.add_constant(X1) #add intercept\n",
    "model2 = sm.OLS(y,X1).fit()\n",
    "print(\"Model 2 Summary:\")\n",
    "print(model2.summary())"
   ]
  },
  {
   "cell_type": "markdown",
   "id": "cdb0297a",
   "metadata": {
    "papermill": {
     "duration": 0.014273,
     "end_time": "2024-09-07T23:52:48.134208",
     "exception": false,
     "start_time": "2024-09-07T23:52:48.119935",
     "status": "completed"
    },
    "tags": []
   },
   "source": [
    "This model predicts how many games a team will win based on the number of runs they allow the opposing team to score. Results: Explained Variability: This model explains about 38% of why teams win or lose games. Key Finding: Allowing more runs generally means fewer wins. The more runs a team gives up, the fewer games they are likely to win."
   ]
  },
  {
   "cell_type": "markdown",
   "id": "db6b36bb",
   "metadata": {
    "papermill": {
     "duration": 0.014377,
     "end_time": "2024-09-07T23:52:48.163297",
     "exception": false,
     "start_time": "2024-09-07T23:52:48.148920",
     "status": "completed"
    },
    "tags": []
   },
   "source": []
  },
  {
   "cell_type": "code",
   "execution_count": 27,
   "id": "acf29953",
   "metadata": {
    "execution": {
     "iopub.execute_input": "2024-09-07T23:52:48.194548Z",
     "iopub.status.busy": "2024-09-07T23:52:48.193794Z",
     "iopub.status.idle": "2024-09-07T23:52:48.213585Z",
     "shell.execute_reply": "2024-09-07T23:52:48.212239Z"
    },
    "papermill": {
     "duration": 0.037748,
     "end_time": "2024-09-07T23:52:48.215705",
     "exception": false,
     "start_time": "2024-09-07T23:52:48.177957",
     "status": "completed"
    },
    "tags": []
   },
   "outputs": [
    {
     "name": "stdout",
     "output_type": "stream",
     "text": [
      "Model 3 Summary:\n",
      "                            OLS Regression Results                            \n",
      "==============================================================================\n",
      "Dep. Variable:              Games_Won   R-squared:                       0.382\n",
      "Model:                            OLS   Adj. R-squared:                  0.380\n",
      "Method:                 Least Squares   F-statistic:                     295.1\n",
      "Date:                Sat, 07 Sep 2024   Prob (F-statistic):           7.25e-52\n",
      "Time:                        23:52:48   Log-Likelihood:                -1734.1\n",
      "No. Observations:                 480   AIC:                             3472.\n",
      "Df Residuals:                     478   BIC:                             3480.\n",
      "Df Model:                           1                                         \n",
      "Covariance Type:            nonrobust                                         \n",
      "================================================================================\n",
      "                   coef    std err          t      P>|t|      [0.025      0.975]\n",
      "--------------------------------------------------------------------------------\n",
      "const          139.5571      3.435     40.628      0.000     132.808     146.307\n",
      "Runs_Against    -0.0792      0.005    -17.179      0.000      -0.088      -0.070\n",
      "==============================================================================\n",
      "Omnibus:                        0.539   Durbin-Watson:                   1.843\n",
      "Prob(Omnibus):                  0.764   Jarque-Bera (JB):                0.644\n",
      "Skew:                           0.011   Prob(JB):                        0.725\n",
      "Kurtosis:                       2.822   Cond. No.                     6.24e+03\n",
      "==============================================================================\n",
      "\n",
      "Notes:\n",
      "[1] Standard Errors assume that the covariance matrix of the errors is correctly specified.\n",
      "[2] The condition number is large, 6.24e+03. This might indicate that there are\n",
      "strong multicollinearity or other numerical problems.\n"
     ]
    }
   ],
   "source": [
    "import statsmodels.api as sm\n",
    "X1 = df[['Runs_Against']]\n",
    "y= df[['Games_Won']]\n",
    "X1 = sm.add_constant(X1)\n",
    "model3 = sm.OLS(y,X1).fit()\n",
    "print(\"Model 3 Summary:\")\n",
    "print(model3.summary())"
   ]
  },
  {
   "cell_type": "markdown",
   "id": "41fbb2db",
   "metadata": {
    "papermill": {
     "duration": 0.014393,
     "end_time": "2024-09-07T23:52:48.245110",
     "exception": false,
     "start_time": "2024-09-07T23:52:48.230717",
     "status": "completed"
    },
    "tags": []
   },
   "source": [
    "Key Findings: Scoring more runs leads to more wins. Allowing more runs leads to fewer wins. Why Model 3 is Better:\n",
    "\n",
    "Comprehensive: By considering both how many runs a team scores and how many runs they allow, Model 3 gives a much fuller picture of a team’s performance. Improved Accuracy: This model provides a much better estimate of how many games a team will win, as it accounts for both offensive and defensive aspects. Summary In simple terms, while the first model only tells us that allowing more runs leads to fewer wins, the second model gives us a more complete view by including both runs scored and runs allowed. This makes it a better tool for predicting how many games a team will win because it considers both sides of the game."
   ]
  }
 ],
 "metadata": {
  "kaggle": {
   "accelerator": "none",
   "dataSources": [
    {
     "datasetId": 5661496,
     "sourceId": 9341860,
     "sourceType": "datasetVersion"
    }
   ],
   "dockerImageVersionId": 30761,
   "isGpuEnabled": false,
   "isInternetEnabled": true,
   "language": "python",
   "sourceType": "notebook"
  },
  "kernelspec": {
   "display_name": "Python 3",
   "language": "python",
   "name": "python3"
  },
  "language_info": {
   "codemirror_mode": {
    "name": "ipython",
    "version": 3
   },
   "file_extension": ".py",
   "mimetype": "text/x-python",
   "name": "python",
   "nbconvert_exporter": "python",
   "pygments_lexer": "ipython3",
   "version": "3.10.14"
  },
  "papermill": {
   "default_parameters": {},
   "duration": 9.380178,
   "end_time": "2024-09-07T23:52:48.880498",
   "environment_variables": {},
   "exception": null,
   "input_path": "__notebook__.ipynb",
   "output_path": "__notebook__.ipynb",
   "parameters": {},
   "start_time": "2024-09-07T23:52:39.500320",
   "version": "2.6.0"
  }
 },
 "nbformat": 4,
 "nbformat_minor": 5
}
